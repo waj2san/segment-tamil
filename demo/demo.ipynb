{
 "cells": [
  {
   "cell_type": "code",
   "execution_count": 1,
   "id": "initial_id",
   "metadata": {},
   "outputs": [],
   "source": [
    "from nb_space_restorer import NBSpaceRestorer\n",
    "from tamil import utf8"
   ]
  },
  {
   "cell_type": "code",
   "execution_count": 2,
   "id": "771b117c6bba5a72",
   "metadata": {},
   "outputs": [],
   "source": [
    "mapping = {ch: chr(i + 40000) for i, ch in\n",
    "           enumerate(sorted(utf8.tamil_letters.copy(), reverse=True, key=lambda x: len(x)))}\n",
    "inverse_mapping = {v: k for k, v in mapping.items()}\n",
    "\n",
    "\n",
    "def map(text):\n",
    "    for k in mapping:\n",
    "        text = text.replace(k, mapping[k])\n",
    "\n",
    "    return text\n",
    "\n",
    "\n",
    "def unmap(text):\n",
    "    for k in inverse_mapping:\n",
    "        text = text.replace(k, inverse_mapping[k])\n",
    "\n",
    "    return text\n",
    "\n",
    "\n",
    "def add_dollar(s):\n",
    "    for i in range(len(s) - 1, 0, -1):\n",
    "        if s[i] == ' ' or s[i - 1] == ' ':\n",
    "            continue\n",
    "        s = s[:i] + '$' + s[i:]\n",
    "\n",
    "    return s\n",
    "\n",
    "def get_annotation(pred, ref):\n",
    "    ref_map = add_dollar(map(ref))\n",
    "    pred_map = add_dollar(map(pred))\n",
    "    final = pred_map\n",
    "\n",
    "    for i in range(len(ref_map)):\n",
    "        if ref_map[i] == ' ' or pred_map[i] == ' ':\n",
    "            if ref_map[i] == ' ' and pred_map[i] == ' ':\n",
    "                final = final[:i] + \"#\" + final[i + 1:]\n",
    "            elif ref_map[i] == ' ' and pred_map[i] != ' ':\n",
    "                # False negative\n",
    "                final = final[:i] + \"@\" + final[i + 1:]\n",
    "            elif ref_map[i] != ' ' and pred_map[i] == ' ':\n",
    "                # False positive\n",
    "                final = final[:i] + \"!\" + final[i + 1:]\n",
    "\n",
    "    idx = 0\n",
    "\n",
    "    lst = []\n",
    "\n",
    "    for i in range(len(final)):\n",
    "\n",
    "        elem = final[i]\n",
    "        if elem == '#' or elem == '@' or elem == '!':\n",
    "            lst.append(unmap(final[idx:i].replace('$', '')))\n",
    "            idx = i + 1\n",
    "            if elem == '#':\n",
    "                lst.append(\"[TP]\")\n",
    "            elif elem == '@':\n",
    "                lst.append(\"[FN]\")\n",
    "            elif elem == '!':\n",
    "                lst.append(\"[FP]\")\n",
    "\n",
    "    lst.append(unmap(final[idx:].replace('$', '')))\n",
    "    return ''.join(lst)"
   ]
  },
  {
   "cell_type": "code",
   "execution_count": 3,
   "id": "53b7eb74aeddc344",
   "metadata": {},
   "outputs": [
    {
     "name": "stdout",
     "output_type": "stream",
     "text": [
      "Finished loading model.\n"
     ]
    }
   ],
   "source": [
    "tamil_space_restorer = NBSpaceRestorer.load(\n",
    "        '../pickle/AncientTamilSegmenter-v1.0.pickle',\n",
    "        read_only=True\n",
    "    )"
   ]
  },
  {
   "cell_type": "code",
   "execution_count": 5,
   "id": "146370697db76df3",
   "metadata": {},
   "outputs": [
    {
     "name": "stdout",
     "output_type": "stream",
     "text": [
      "Input: நெல்லுநாற்கலமும்திருக்கண்ணாமடைக்குவெண்டுவதவையிக்குநெல்\n",
      "Reference: நெல்லு நாற்கலமும் திருக்கண்ணாமடைக்கு வெண்டுவதவையிக்கு நெல்\n",
      "Prediction: நெல்லு[FN]நாற்கலமும்[FN]திருக்கண்ணாமடைக்கு[TP]வெண்டுவதவையிக்கு[FN]நெல்\n"
     ]
    }
   ],
   "source": [
    "reference = \"நெல்லு நாற்கலமும் திருக்கண்ணாமடைக்கு வெண்டுவதவையிக்கு நெல்\"\n",
    "# reference = \"நெல்லுப் பதக்கும் பெருனிருவமுதுக்கு அரிசி\"\n",
    "# reference = \"இரண்டு ஒளிக்கதிர் களும் இரவில் வானத்தை நோக்கி பயணிக்கச் செய்யப்பட்டவை\"\n",
    "input_str = reference.replace(' ', '')\n",
    "\n",
    "result = unmap(tamil_space_restorer.restore(map(input_str)))\n",
    "evaluation = get_annotation(result, unmap(map(reference)))\n",
    "\n",
    "\n",
    "print(f\"Input: {input_str}\")\n",
    "print(f\"Reference: {reference}\")\n",
    "print(f\"Prediction: {evaluation}\")"
   ]
  },
  {
   "cell_type": "code",
   "execution_count": null,
   "id": "f6edd0ce-d774-4d2b-be2c-fe2119fec754",
   "metadata": {},
   "outputs": [],
   "source": []
  }
 ],
 "metadata": {
  "kernelspec": {
   "display_name": "Python 3 (ipykernel)",
   "language": "python",
   "name": "python3"
  },
  "language_info": {
   "codemirror_mode": {
    "name": "ipython",
    "version": 3
   },
   "file_extension": ".py",
   "mimetype": "text/x-python",
   "name": "python",
   "nbconvert_exporter": "python",
   "pygments_lexer": "ipython3",
   "version": "3.10.12"
  }
 },
 "nbformat": 4,
 "nbformat_minor": 5
}
